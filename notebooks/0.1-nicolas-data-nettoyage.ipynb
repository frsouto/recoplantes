{
 "cells": [
  {
   "cell_type": "markdown",
   "id": "c3b64c52-f89c-4376-b359-b3cbec7d460d",
   "metadata": {},
   "source": [
    "# Nettoyage du jeu de données"
   ]
  },
  {
   "cell_type": "markdown",
   "id": "400ce016-4482-4395-84f9-9d77aabcb49c",
   "metadata": {},
   "source": [
    "## 1. Suppression des fichiers\n",
    "L'objectif de ce notebook est d'écarter les images estimés non pertinentes pour la suite du projet"
   ]
  },
  {
   "cell_type": "code",
   "execution_count": 3,
   "id": "c61d1b21-5119-4128-9c2d-27a0e6649f16",
   "metadata": {},
   "outputs": [],
   "source": [
    "import os\n",
    "import pandas as pd"
   ]
  },
  {
   "cell_type": "code",
   "execution_count": 45,
   "id": "9db09553-5fee-4406-9a98-041e9c8d999e",
   "metadata": {},
   "outputs": [],
   "source": [
    "def delete_files_from_csv(csv_path, root_path):\n",
    "    \"\"\"\n",
    "    Delete files listed in a CSV file.\n",
    "\n",
    "    Arguments:\n",
    "    csv_path (str): The path to the CSV file containing the file paths to delete.\n",
    "    root_path (str): The root directory containing the files.\n",
    "    \"\"\"\n",
    "    # Read the CSV file\n",
    "    df = pd.read_csv(csv_path, sep=\";\")\n",
    "\n",
    "    df['filepath'] = df['class'].str.cat(df['filename'], sep='/')\n",
    "\n",
    "    # Loop through each file path and delete the file\n",
    "    for file_path in df['filepath']:\n",
    "        full_path = os.path.join(root_path, file_path)\n",
    "        if os.path.exists(full_path):\n",
    "            # os.remove(full_path)\n",
    "            print(f'Deleted: {full_path}')\n",
    "        else:\n",
    "            print(f'File not found: {full_path}')\n",
    "\n"
   ]
  },
  {
   "cell_type": "code",
   "execution_count": 46,
   "id": "4753e0d1",
   "metadata": {},
   "outputs": [],
   "source": [
    "df = pd.read_csv(csv_path, sep=\";\")"
   ]
  },
  {
   "cell_type": "code",
   "execution_count": 47,
   "id": "d12ec639",
   "metadata": {},
   "outputs": [
    {
     "name": "stdout",
     "output_type": "stream",
     "text": [
      "Deleted: /Users/nicolaspapegaey/Developer/DataScientest/fev24_cds_plants/models/raw/color/Apple___healthy/11beda66-01e9-4bfd-be37-c0f8646d1478___RS_HL 6271.JPG\n",
      "Deleted: /Users/nicolaspapegaey/Developer/DataScientest/fev24_cds_plants/models/raw/color/Apple___healthy/14896dc0-688d-456f-b5ec-a037695b0193___RS_HL 6268.JPG\n",
      "Deleted: /Users/nicolaspapegaey/Developer/DataScientest/fev24_cds_plants/models/raw/color/Apple___healthy/1ab5e019-e5f0-4d8e-a252-94cb0aab8b0a___RS_HL 6269.JPG\n",
      "Deleted: /Users/nicolaspapegaey/Developer/DataScientest/fev24_cds_plants/models/raw/color/Apple___healthy/3d075f90-7002-4c45-abc0-4f35ee49aa79___RS_HL 6272.JPG\n",
      "Deleted: /Users/nicolaspapegaey/Developer/DataScientest/fev24_cds_plants/models/raw/color/Apple___healthy/5192db55-4aa7-421c-92d4-c2dac79e7379___RS_HL 6273.JPG\n",
      "Deleted: /Users/nicolaspapegaey/Developer/DataScientest/fev24_cds_plants/models/raw/color/Apple___healthy/ced4e27a-5eff-4190-a33a-cdc3d84c811e___RS_HL 6270.JPG\n",
      "Deleted: /Users/nicolaspapegaey/Developer/DataScientest/fev24_cds_plants/models/raw/color/Apple___healthy/f2cda910-55c7-46d7-b1a2-9a3bb9792148___RS_HL 6274.JPG\n",
      "Deleted: /Users/nicolaspapegaey/Developer/DataScientest/fev24_cds_plants/models/raw/color/Tomato___healthy/068e324c-faf6-40d6-8f83-578907f1cac5___GH_HL Leaf 466.1.JPG\n",
      "Deleted: /Users/nicolaspapegaey/Developer/DataScientest/fev24_cds_plants/models/raw/color/Tomato___healthy/1af0bfe1-4bcf-4b8b-be66-5d0953eb647e___GH_HL Leaf 482.2.JPG\n",
      "Deleted: /Users/nicolaspapegaey/Developer/DataScientest/fev24_cds_plants/models/raw/color/Tomato___healthy/37203047-d8ba-43f7-b31e-d496c41c569c___GH_HL Leaf 389.JPG\n",
      "Deleted: /Users/nicolaspapegaey/Developer/DataScientest/fev24_cds_plants/models/raw/color/Tomato___healthy/37aad83b-7ff8-4b35-b3ed-fb8e0f54910b___GH_HL Leaf 342.1.JPG\n",
      "Deleted: /Users/nicolaspapegaey/Developer/DataScientest/fev24_cds_plants/models/raw/color/Tomato___healthy/488feb1c-4b9f-44e7-8aa6-4103a9601f5f___GH_HL Leaf 434.JPG\n",
      "Deleted: /Users/nicolaspapegaey/Developer/DataScientest/fev24_cds_plants/models/raw/color/Tomato___healthy/9662364c-aaba-45e3-b907-10792d60578c___GH_HL Leaf 220.JPG\n",
      "Deleted: /Users/nicolaspapegaey/Developer/DataScientest/fev24_cds_plants/models/raw/color/Tomato___Late_blight/1a69b38b-c4eb-42c4-9584-bcb14fb8db0c___GHLB2 Leaf 9011.JPG\n",
      "Deleted: /Users/nicolaspapegaey/Developer/DataScientest/fev24_cds_plants/models/raw/color/Tomato___Late_blight/3fae9c64-18f0-4a67-9f97-554248bb1bed___GHLB_PS Leaf 24 Day 16.jpg\n",
      "Deleted: /Users/nicolaspapegaey/Developer/DataScientest/fev24_cds_plants/models/raw/color/Tomato___Late_blight/48c55974-9fe9-4f4b-94f7-c8cd127d1e05___GHLB_PS Leaf 23.7 Day 13.jpg\n",
      "Deleted: /Users/nicolaspapegaey/Developer/DataScientest/fev24_cds_plants/models/raw/color/Tomato___Late_blight/5688ea99-c949-41d0-bbab-9cbf0ffb8bcd___GHLB2 Leaf 8677.JPG\n",
      "Deleted: /Users/nicolaspapegaey/Developer/DataScientest/fev24_cds_plants/models/raw/color/Tomato___Late_blight/5f21282c-e2ef-4c4a-ace1-b5701fe7effc___GHLB2 Leaf 8999.JPG\n",
      "Deleted: /Users/nicolaspapegaey/Developer/DataScientest/fev24_cds_plants/models/raw/color/Tomato___Late_blight/861d8b00-57a4-46b0-b51a-09d102dbe119___GHLB_PS Leaf 24 Day 13.jpg\n",
      "Deleted: /Users/nicolaspapegaey/Developer/DataScientest/fev24_cds_plants/models/raw/color/Tomato___Late_blight/98586693-fe1f-4ea0-8e27-4501b61cf09b___GHLB_PS Leaf 23.5 Day 13.jpg\n",
      "Deleted: /Users/nicolaspapegaey/Developer/DataScientest/fev24_cds_plants/models/raw/color/Tomato___Late_blight/d6e6897a-5083-4914-9903-804c5684a956___GHLB2 Leaf 102.JPG\n",
      "Deleted: /Users/nicolaspapegaey/Developer/DataScientest/fev24_cds_plants/models/raw/color/Pepper,_bell___healthy/3306b49b-e3b3-4450-8609-ae44ab2b6593___bell-pepper-plant-61726.JPG\n"
     ]
    }
   ],
   "source": [
    "# Define the root path and the CSV file path\n",
    "root_path = '/Users/nicolaspapegaey/Developer/DataScientest/fev24_cds_plants/models/raw/color'\n",
    "csv_path = '/Users/nicolaspapegaey/Developer/DataScientest/fev24_cds_plants/notebooks/files_to_delete.csv'\n",
    "\n",
    "\n",
    "# Call the function\n",
    "delete_files_from_csv(csv_path, root_path)"
   ]
  },
  {
   "cell_type": "code",
   "execution_count": null,
   "id": "3ffda596",
   "metadata": {},
   "outputs": [],
   "source": []
  },
  {
   "cell_type": "code",
   "execution_count": null,
   "id": "f62adf81",
   "metadata": {},
   "outputs": [],
   "source": []
  }
 ],
 "metadata": {
  "kernelspec": {
   "display_name": "Python 3 (ipykernel)",
   "language": "python",
   "name": "python3"
  },
  "language_info": {
   "codemirror_mode": {
    "name": "ipython",
    "version": 3
   },
   "file_extension": ".py",
   "mimetype": "text/x-python",
   "name": "python",
   "nbconvert_exporter": "python",
   "pygments_lexer": "ipython3",
   "version": "3.9.6"
  }
 },
 "nbformat": 4,
 "nbformat_minor": 5
}
